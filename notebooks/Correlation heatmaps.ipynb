{
 "cells": [
  {
   "cell_type": "code",
   "execution_count": 1,
   "metadata": {
    "collapsed": false
   },
   "outputs": [],
   "source": [
    "import pandas as pd\n",
    "import matplotlib.pyplot as plt\n",
    "import matplotlib as mpl\n",
    "import numpy as np\n",
    "import seaborn as sns\n",
    "import adnet.external.optimal_leaf_ordering as olo\n",
    "import adnet.library as lib\n",
    "import scipy.cluster.hierarchy as scclust\n",
    "from scipy.spatial import distance\n",
    "import os\n",
    "\n",
    "\n",
    "#import adnet.library as lib\n",
    "%matplotlib notebook"
   ]
  },
  {
   "cell_type": "markdown",
   "metadata": {},
   "source": [
    "# Correlation heatmaps\n",
    "Author: Vito Zanotelli\n",
    "\n",
    "This notebook reproduces the heatmaps shown in figure 2) xx and the supplementary file 4.\n",
    "It requires an output file from the 'Main analysis allvsall) (../example/config_main_allvsall.ini)."
   ]
  },
  {
   "cell_type": "code",
   "execution_count": 2,
   "metadata": {
    "collapsed": true
   },
   "outputs": [],
   "source": [
    "fn_bindat = '../example/testoutput/main_allvsall/bindat'\n",
    "plot_folder = '../example/testoutput/main_allvsall/'\n",
    "plotall = True\n",
    "neg_ctrl_names = ['GFP-FLAG-1']"
   ]
  },
  {
   "cell_type": "markdown",
   "metadata": {},
   "source": [
    "Load the files"
   ]
  },
  {
   "cell_type": "code",
   "execution_count": null,
   "metadata": {
    "collapsed": false
   },
   "outputs": [],
   "source": [
    "bin_dat = pd.read_pickle(fn_bindat)"
   ]
  },
  {
   "cell_type": "markdown",
   "metadata": {},
   "source": [
    "Plot the heatmaps"
   ]
  },
  {
   "cell_type": "code",
   "execution_count": null,
   "metadata": {
    "collapsed": false
   },
   "outputs": [],
   "source": [
    "clustermat_stats = ['corr_spearman_overall']\n",
    "grp_levels = ['marker', 'perturbation', 'timepoint']\n",
    "ref =neg_ctrl_names[0]\n",
    "\n",
    "plt.ioff()\n",
    "\n",
    "for idx, group_bin_dat in bin_dat.groupby(level=grp_levels):\n",
    "    group_bin_dat = group_bin_dat['stats'].groupby(level=['origin','target']).median()\n",
    "\n",
    "    ref_idx = list(idx)\n",
    "    ref_idx[0] =  ref\n",
    "    ref_group_bin_dat = bin_dat.xs(ref_idx,level=grp_levels)\n",
    "    ref_group_bin_dat = ref_group_bin_dat['stats'].groupby(level=['origin','target']).median()\n",
    "    for stat in clustermat_stats:\n",
    "        clustermat = np.arctanh(group_bin_dat[stat].unstack())-np.arctanh(ref_group_bin_dat[stat].unstack())\n",
    "        plotmat = clustermat.copy().fillna(0)\n",
    "        clustermat = clustermat.fillna(clustermat.max().max())\n",
    "        r_clust = scclust.linkage(clustermat, method='ward', metric='euclidean')\n",
    "\n",
    "        s = sns.clustermap(plotmat, vmin= -0.8, vmax=0.8,row_cluster=True, col_cluster=True, col_linkage=r_clust, row_linkage=r_clust, center=0,)\n",
    "        plt.setp(s.ax_heatmap.get_yticklabels(), rotation=0)\n",
    "        plt.setp(s.ax_heatmap.get_xticklabels(), rotation=90)\n",
    "        plt.suptitle('%s overexpression tp %s: %s heatmap' %(idx[0], str(idx[2]), stat))\n",
    "        plt.subplots_adjust(bottom=0.3, right=0.7, left=0.1)\n",
    "        s.ax_heatmap.set(xlabel='', ylabel='')\n",
    "        plt.savefig(os.path.join(plot_folder, 'clustermap_%s_overexpression_%s_tp_%02d_heatmap_minusref_fischer.png' %(idx[0], stat, (idx[2]))))\n",
    "        plt.savefig(os.path.join(plot_folder, 'clustermap_%s_overexpression_%s_tp_%02d_heatmap_minusref_fischer.pdf' %(idx[0], stat, (idx[2]))))\n",
    "        plt.close()\n",
    "\n"
   ]
  },
  {
   "cell_type": "markdown",
   "metadata": {},
   "source": [
    "-> This will replicate the supplementary files"
   ]
  },
  {
   "cell_type": "code",
   "execution_count": null,
   "metadata": {
    "collapsed": false
   },
   "outputs": [],
   "source": [
    "clustermat_stats = ['corr_pearson_overall', 'corr_spearman_overall', 'median_mean_var_ratio']\n",
    "grp_levels = ['marker', 'perturbation', 'timepoint']\n",
    "ref =neg_ctrl_names[0]\n",
    "\n",
    "plt.ioff()\n",
    "\n",
    "for idx, group_bin_dat in bin_dat.groupby(level=grp_levels):\n",
    "    group_bin_dat = group_bin_dat['stats'].groupby(level=['origin','target']).median()\n",
    "\n",
    "    ref_idx = list(idx)\n",
    "    ref_idx[0] =  ref\n",
    "    ref_group_bin_dat = bin_dat.xs(ref_idx,level=grp_levels)\n",
    "    ref_group_bin_dat = ref_group_bin_dat['stats'].groupby(level=['origin','target']).median()\n",
    "    for stat in clustermat_stats:\n",
    "        clustermat = group_bin_dat[stat].unstack().copy()\n",
    "        clustermat = clustermat.fillna(clustermat.max().max())\n",
    "        r_clust = scclust.linkage(1-np.abs(clustermat), method='ward', metric='euclidean')\n",
    "        s = sns.clustermap(clustermat, row_cluster=True, col_cluster=True, col_linkage=r_clust, row_linkage=r_clust, center=0)\n",
    "        plt.setp(s.ax_heatmap.get_yticklabels(), rotation=0)\n",
    "        plt.setp(s.ax_heatmap.get_xticklabels(), rotation=90)  \n",
    "        plt.subplots_adjust(bottom=0.3, right=0.7, left=0.1)\n",
    "        plt.suptitle('%s overexpression %s: %s heatmap' %(idx[0], str(idx[2]), stat))\n",
    "        plt.savefig(os.path.join(plot_folder, 'clustermap_%s_overexpression_%s_tp_%02d_heatmap.png' %(idx[0], stat, idx[2])))\n",
    "        plt.close()\n",
    "\n",
    "        clustermat = group_bin_dat[stat].unstack()-ref_group_bin_dat[stat].unstack()\n",
    "        plotmat = clustermat.copy().fillna(0)\n",
    "        clustermat = clustermat.fillna(clustermat.max().max())\n",
    "        r_clust = scclust.linkage(1-clustermat, method='ward', metric='euclidean')\n",
    "        s = sns.clustermap(plotmat, row_cluster=True, col_cluster=True, col_linkage=r_clust, row_linkage=r_clust, center=0)\n",
    "        plt.setp(s.ax_heatmap.get_yticklabels(), rotation=0)\n",
    "        plt.setp(s.ax_heatmap.get_xticklabels(), rotation=90)      \n",
    "        plt.subplots_adjust(bottom=0.3, right=0.7, left=0.1)\n",
    "        plt.suptitle('%s overexpression tp %s: %s heatmap' %(idx[0], str(idx[2]), stat))\n",
    "        plt.savefig(os.path.join(plot_folder, 'clustermap_%s_overexpression_%s_tp_%02d_heatmap_minusref.png' %(idx[0], stat, (idx[2]))))\n",
    "        plt.close()\n",
    "\n",
    "        clustermat = np.arctanh(group_bin_dat[stat].unstack())-np.arctanh(ref_group_bin_dat[stat].unstack())\n",
    "        plotmat = clustermat.copy().fillna(0)\n",
    "        clustermat = clustermat.fillna(clustermat.max().max())\n",
    "        r_clust = scclust.linkage(clustermat, method='ward', metric='euclidean')\n",
    "\n",
    "        s = sns.clustermap(plotmat, vmin= -0.8, vmax=0.8,row_cluster=True, col_cluster=True, col_linkage=r_clust, row_linkage=r_clust, center=0,)\n",
    "        plt.setp(s.ax_heatmap.get_yticklabels(), rotation=0)\n",
    "        plt.setp(s.ax_heatmap.get_xticklabels(), rotation=90)\n",
    "        plt.suptitle('%s overexpression tp %s: %s heatmap' %(idx[0], str(idx[2]), stat))\n",
    "        plt.subplots_adjust(bottom=0.3, right=0.7, left=0.1)\n",
    "        s.ax_heatmap.set(xlabel='', ylabel='')\n",
    "        plt.savefig(os.path.join(plot_folder, 'clustermap_%s_overexpression_%s_tp_%02d_heatmap_minusref_fischer.png' %(idx[0], stat, (idx[2]))))\n",
    "        plt.savefig(os.path.join(plot_folder, 'clustermap_%s_overexpression_%s_tp_%02d_heatmap_minusref_fischer.pdf' %(idx[0], stat, (idx[2]))))\n",
    "        plt.close()\n",
    "\n",
    "        # partial correlation coefficients corrected for gfp\n",
    "        clustermat = group_bin_dat[stat].unstack().copy()\n",
    "        #clustermat = clustermat.fillna(1)\n",
    "        clustermat = lib.part_cor_coef(clustermat, 'GFP')\n",
    "        clustermat = clustermat.fillna(clustermat.max().max())\n",
    "        r_clust = scclust.linkage(1-np.abs(clustermat), method='ward', metric='euclidean')\n",
    "        s = sns.clustermap(clustermat, row_cluster=True, col_cluster=True, col_linkage=r_clust, row_linkage=r_clust, center=0)\n",
    "        plt.setp(s.ax_heatmap.get_yticklabels(), rotation=0)\n",
    "        plt.setp(s.ax_heatmap.get_xticklabels(), rotation=90)\n",
    "        plt.subplots_adjust(bottom=0.3, right=0.7, left=0.1)\n",
    "        plt.savefig(os.path.join(plot_folder, 'clustermap_%s_overexpression_%s_tp_%02d_heatmap_gfpcorr.png' %(idx[0], stat, (idx[2]))))\n",
    "        plt.close()\n",
    "\n",
    "        # substract the reference\n",
    "        clustermat = np.arctanh(lib.part_cor_coef(group_bin_dat[stat].unstack(),'GFP'))-np.arctanh(lib.part_cor_coef(\n",
    "            ref_group_bin_dat[stat].unstack(), 'GFP'))\n",
    "\n",
    "        plotmat = clustermat.fillna(0)\n",
    "        clustermat = clustermat.fillna(clustermat.max().max())\n",
    "\n",
    "        r_clust = scclust.linkage(1-clustermat, method='ward', metric='euclidean')\n",
    "        s = sns.clustermap(plotmat, row_cluster=True, col_cluster=True, col_linkage=r_clust, row_linkage=r_clust, center=0)\n",
    "        plt.setp(s.ax_heatmap.get_yticklabels(), rotation=0)\n",
    "        plt.setp(s.ax_heatmap.get_xticklabels(), rotation=90)\n",
    "        #s.ax_heatmap..subplots_adjust(bottom=0.2, right=0.2)\n",
    "        plt.subplots_adjust(bottom=0.3, right=0.7, left=0.1) \n",
    "        plt.savefig(os.path.join(plot_folder, 'clustermap_%s_overexpression_%s_tp_%02d_heatmap_minusref_fischer_gfpcorr.png' %(idx[0], stat, (idx[2]))))\n",
    "        plt.savefig(os.path.join(plot_folder, 'clustermap_%s_overexpression_%s_tp_%02d_heatmap_minusref_fischer_gfpcorr.pdf' %(idx[0], stat, (idx[2]))))\n",
    "        plt.close()"
   ]
  },
  {
   "cell_type": "code",
   "execution_count": null,
   "metadata": {
    "collapsed": true
   },
   "outputs": [],
   "source": []
  }
 ],
 "metadata": {
  "kernelspec": {
   "display_name": "Python 2 venv",
   "language": "python",
   "name": "python2"
  },
  "language_info": {
   "codemirror_mode": {
    "name": "ipython",
    "version": 2
   },
   "file_extension": ".py",
   "mimetype": "text/x-python",
   "name": "python",
   "nbconvert_exporter": "python",
   "pygments_lexer": "ipython2",
   "version": "2.7.6"
  }
 },
 "nbformat": 4,
 "nbformat_minor": 0
}
