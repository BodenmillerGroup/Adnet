{
 "cells": [
  {
   "cell_type": "code",
   "execution_count": 1,
   "metadata": {
    "collapsed": false
   },
   "outputs": [],
   "source": [
    "import pandas as pd\n",
    "import matplotlib.pyplot as plt\n",
    "import matplotlib as mpl\n",
    "import numpy as np\n",
    "import seaborn as sns\n",
    "import adnet.library as lib\n",
    "import scipy.cluster.hierarchy as scclust\n",
    "from scipy.spatial import distance\n",
    "import os\n",
    "\n",
    "\n",
    "#import adnet.library as lib\n",
    "%matplotlib notebook"
   ]
  },
  {
   "cell_type": "markdown",
   "metadata": {},
   "source": [
    "# Correlation heatmaps\n",
    "Author: Vito Zanotelli\n",
    "\n",
    "This notebook reproduces the heatmaps shown in figure 2) e/f and the supplementary file 4."
   ]
  },
  {
   "cell_type": "markdown",
   "metadata": {},
   "source": [
    "## Figure 2 e/f"
   ]
  },
  {
   "cell_type": "markdown",
   "metadata": {},
   "source": [
    "To generate the bindat, run the adnet script with the 'config_mutation_allvsalls.ini' configuration file found in the example."
   ]
  },
  {
   "cell_type": "code",
   "execution_count": 2,
   "metadata": {
    "collapsed": true
   },
   "outputs": [],
   "source": [
    "fn_bindat = '../example/example_output/mutation_allvsall/bindat'\n",
    "plot_folder = '../example/example_output/mutation_allvsall/'\n",
    "plotall = True\n",
    "neg_ctrl_names = ['FLAG-GFP']"
   ]
  },
  {
   "cell_type": "markdown",
   "metadata": {},
   "source": [
    "Load the data"
   ]
  },
  {
   "cell_type": "code",
   "execution_count": 3,
   "metadata": {
    "collapsed": false
   },
   "outputs": [],
   "source": [
    "bin_dat = pd.read_pickle(fn_bindat)"
   ]
  },
  {
   "cell_type": "raw",
   "metadata": {},
   "source": [
    "Plot the heatmaps"
   ]
  },
  {
   "cell_type": "code",
   "execution_count": 4,
   "metadata": {
    "collapsed": false
   },
   "outputs": [
    {
     "name": "stderr",
     "output_type": "stream",
     "text": [
      "/home/vitoz/.virtualenvs/adnetfinal2.7/lib/python2.7/site-packages/matplotlib/axes/_base.py:2782: UserWarning: Attempting to set identical left==right results\n",
      "in singular transformations; automatically expanding.\n",
      "left=0, right=0.0\n",
      "  'left=%s, right=%s') % (left, right))\n",
      "/home/vitoz/.virtualenvs/adnetfinal2.7/lib/python2.7/site-packages/matplotlib/axes/_base.py:3040: UserWarning: Attempting to set identical bottom==top results\n",
      "in singular transformations; automatically expanding.\n",
      "bottom=0, top=0.0\n",
      "  'bottom=%s, top=%s') % (bottom, top))\n"
     ]
    }
   ],
   "source": [
    "clustermat_stats = ['corr_spearman_overall']\n",
    "ref =neg_ctrl_names[0]\n",
    "lib.plot_clustermaps(bin_dat, clustermat_stats, plot_folder, ref, pdf=False)"
   ]
  },
  {
   "cell_type": "markdown",
   "metadata": {},
   "source": [
    "-> This generates the heatmaps for figure 2) e/f"
   ]
  },
  {
   "cell_type": "markdown",
   "metadata": {},
   "source": [
    "## Supplementary files 4\n",
    "\n",
    "To generate the bindat, run the adnet script with the 'config_main_allvsalls.ini' configuration file found in the example. In the github repository only a part of the data is provided. To run it on the full data, download the data from the data repository and put it into the folder structure."
   ]
  },
  {
   "cell_type": "code",
   "execution_count": 5,
   "metadata": {
    "collapsed": true
   },
   "outputs": [],
   "source": [
    "fn_bindat = '../example/example_output/main_allvsall/bindat'\n",
    "plot_folder = '../example/example_output/main_allvsall/'\n",
    "plotall = True\n",
    "neg_ctrl_names = ['GFP-FLAG-1']"
   ]
  },
  {
   "cell_type": "markdown",
   "metadata": {},
   "source": [
    "Load the files"
   ]
  },
  {
   "cell_type": "code",
   "execution_count": 6,
   "metadata": {
    "collapsed": false
   },
   "outputs": [],
   "source": [
    "bin_dat = pd.read_pickle(fn_bindat)"
   ]
  },
  {
   "cell_type": "markdown",
   "metadata": {},
   "source": [
    "Plot the heatmaps"
   ]
  },
  {
   "cell_type": "code",
   "execution_count": 7,
   "metadata": {
    "collapsed": false
   },
   "outputs": [],
   "source": [
    "clustermat_stats = ['corr_spearman_overall']\n",
    "#grp_levels = ['marker', 'perturbation', 'timepoint']\n",
    "ref =neg_ctrl_names[0]\n",
    "\n",
    "lib.plot_clustermaps(bin_dat, clustermat_stats, plot_folder, ref, pdf=False)\n",
    "\n"
   ]
  },
  {
   "cell_type": "markdown",
   "metadata": {},
   "source": [
    "-> This will replicate the supplementary files"
   ]
  },
  {
   "cell_type": "code",
   "execution_count": null,
   "metadata": {
    "collapsed": true
   },
   "outputs": [],
   "source": []
  },
  {
   "cell_type": "code",
   "execution_count": null,
   "metadata": {
    "collapsed": true
   },
   "outputs": [],
   "source": []
  }
 ],
 "metadata": {
  "kernelspec": {
   "display_name": "Python 2 venv",
   "language": "python",
   "name": "python2"
  },
  "language_info": {
   "codemirror_mode": {
    "name": "ipython",
    "version": 2
   },
   "file_extension": ".py",
   "mimetype": "text/x-python",
   "name": "python",
   "nbconvert_exporter": "python",
   "pygments_lexer": "ipython2",
   "version": "2.7.11+"
  }
 },
 "nbformat": 4,
 "nbformat_minor": 0
}
